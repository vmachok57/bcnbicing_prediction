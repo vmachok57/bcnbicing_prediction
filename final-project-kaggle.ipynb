{
 "cells": [
  {
   "cell_type": "code",
   "execution_count": 1,
   "metadata": {
    "_cell_guid": "b1076dfc-b9ad-4769-8c92-a6c4dae69d19",
    "_uuid": "8f2839f25d086af736a60e9eeb907d3b93b6e0e5",
    "execution": {
     "iopub.execute_input": "2025-03-30T21:59:12.446419Z",
     "iopub.status.busy": "2025-03-30T21:59:12.446049Z",
     "iopub.status.idle": "2025-03-30T21:59:12.778887Z",
     "shell.execute_reply": "2025-03-30T21:59:12.777834Z",
     "shell.execute_reply.started": "2025-03-30T21:59:12.446388Z"
    }
   },
   "outputs": [],
   "source": [
    "import pandas as pd\n",
    "import matplotlib.pyplot as plt\n",
    "import seaborn as sns\n",
    "import pandas as pd\n",
    "import numpy as np\n",
    "import glob\n",
    "import os\n",
    "import xgboost as xgb\n",
    "import dask.array as da\n",
    "import dask.dataframe as dd\n",
    "from sklearn.metrics import accuracy_score, confusion_matrix\n",
    "\n",
    "#bikes data\n",
    "folder_path = \"data_no2020/\"\n",
    "csv_files = glob.glob(os.path.join(folder_path, \"*.csv\"))\n",
    "df_list = [dd.read_csv(file, assume_missing=True, dtype={'last_reported': 'float64','station_id':'float64','num_docks_available':'float64','is_returning':'float64','ttl':'float64', 'status':'object'}) for file in csv_files]\n",
    "df_datos_bikes = dd.concat(df_list, ignore_index=True)\n",
    "\n",
    "#stations info + external sources\n",
    "stations_info = pd.read_csv('stations_info/stations.csv')\n",
    "calendar = pd.read_csv('calendar.csv')\n",
    "metro = pd.read_csv('metro_bcn.csv')"
   ]
  },
  {
   "cell_type": "code",
   "execution_count": 2,
   "metadata": {
    "execution": {
     "iopub.execute_input": "2025-03-30T21:59:27.634419Z",
     "iopub.status.busy": "2025-03-30T21:59:27.634047Z",
     "iopub.status.idle": "2025-03-30T22:00:44.826328Z",
     "shell.execute_reply": "2025-03-30T22:00:44.825151Z",
     "shell.execute_reply.started": "2025-03-30T21:59:27.634389Z"
    }
   },
   "outputs": [],
   "source": [
    "from geopy.distance import geodesic\n",
    "\n",
    "# Function to calculate the Haversine distance (in meters)\n",
    "def haversine(lat1, lon1, lat2, lon2):\n",
    "    return geodesic((lat1, lon1), (lat2, lon2)).meters\n",
    "\n",
    "\n",
    "stations_info['nearest_station_id'] = None\n",
    "stations_info['nearest_station_distance'] = None\n",
    "stations_info['stations_within_100m'] = None\n",
    "stations_info['stations_within_300m'] = None\n",
    "stations_info['stations_within_500m'] = None\n",
    "\n",
    "# Iterate over each station to calculate distance to other station\n",
    "for idx, station in stations_info.iterrows():\n",
    "    nearest_station = None\n",
    "    nearest_distance = float('inf')\n",
    "    count_100m = 0\n",
    "    count_300m = 0\n",
    "    count_500m = 0\n",
    "    \n",
    "    for jdx, other_station in stations_info.iterrows():\n",
    "        if station['station_id'] != other_station['station_id']:\n",
    "            distance = haversine(station['lat'], station['lon'], \n",
    "                                 other_station['lat'], other_station['lon'])\n",
    "            if distance < nearest_distance:\n",
    "                nearest_station = other_station['station_id']\n",
    "                nearest_distance = distance\n",
    "            \n",
    "            if distance <= 100:\n",
    "                count_100m += 1\n",
    "            if distance <= 300:\n",
    "                count_300m += 1\n",
    "            if distance <= 500:\n",
    "                count_500m += 1\n",
    "    \n",
    "    # Add into Dataframe\n",
    "    stations_info.at[idx, 'nearest_station_id'] = nearest_station\n",
    "    stations_info.at[idx, 'nearest_station_distance'] = nearest_distance\n",
    "    stations_info.at[idx, 'stations_within_100m'] = count_100m\n",
    "    stations_info.at[idx, 'stations_within_300m'] = count_300m\n",
    "    stations_info.at[idx, 'stations_within_500m'] = count_500m"
   ]
  },
  {
   "cell_type": "code",
   "execution_count": 3,
   "metadata": {
    "execution": {
     "iopub.execute_input": "2025-03-30T22:00:44.828021Z",
     "iopub.status.busy": "2025-03-30T22:00:44.827724Z",
     "iopub.status.idle": "2025-03-30T22:00:47.363033Z",
     "shell.execute_reply": "2025-03-30T22:00:47.361698Z",
     "shell.execute_reply.started": "2025-03-30T22:00:44.827996Z"
    }
   },
   "outputs": [],
   "source": [
    "# Haversine formula to calculate the distance in meters\n",
    "def haversine(lon1, lat1, lon2, lat2):\n",
    "    # Convert degrees to radians\n",
    "    lon1, lat1, lon2, lat2 = map(np.radians, [lon1, lat1, lon2, lat2])\n",
    "\n",
    "    # Haversine formula\n",
    "    dlon = lon2 - lon1\n",
    "    dlat = lat2 - lat1\n",
    "    a = np.sin(dlat / 2)**2 + np.cos(lat1) * np.cos(lat2) * np.sin(dlon / 2)**2\n",
    "    c = 2 * np.arctan2(np.sqrt(a), np.sqrt(1 - a))\n",
    "\n",
    "    # Radius of the Earth in meters (mean radius)\n",
    "    R = 6371000\n",
    "    distance = R * c\n",
    "    return distance\n",
    "\n",
    "\n",
    "# Function to find nearest metro station for each bicycle station\n",
    "def find_nearest_metro(stations_info, metro):\n",
    "    nearest_metro_ids = []\n",
    "    nearest_distances = []\n",
    "\n",
    "    for _, bike_station in stations_info.iterrows():\n",
    "        bike_lat = bike_station['lat']\n",
    "        bike_lon = bike_station['lon']\n",
    "        \n",
    "        # Calculate the distance to each metro station and find the minimum\n",
    "        distances = metro.apply(lambda row: haversine(bike_lon, bike_lat, row['longitude'], row['latitude']), axis=1)\n",
    "        \n",
    "        # Find the minimum distance and the corresponding metro station\n",
    "        nearest_metro_id = metro.loc[distances.idxmin(), 'name']\n",
    "        nearest_distance = distances.min()\n",
    "        \n",
    "        nearest_metro_ids.append(nearest_metro_id)\n",
    "        nearest_distances.append(nearest_distance)\n",
    "    \n",
    "    stations_info['nearest_metro'] = nearest_metro_ids\n",
    "    stations_info['distance_to_nearest_metro'] = nearest_distances\n",
    "\n",
    "    return stations_info\n",
    "\n",
    "# Apply the function\n",
    "bicycle_stations_metro = find_nearest_metro(stations_info, metro)"
   ]
  },
  {
   "cell_type": "code",
   "execution_count": 4,
   "metadata": {
    "execution": {
     "iopub.execute_input": "2025-03-30T22:00:47.365607Z",
     "iopub.status.busy": "2025-03-30T22:00:47.365222Z",
     "iopub.status.idle": "2025-03-30T22:00:47.422581Z",
     "shell.execute_reply": "2025-03-30T22:00:47.421495Z",
     "shell.execute_reply.started": "2025-03-30T22:00:47.365578Z"
    }
   },
   "outputs": [
    {
     "data": {
      "text/html": [
       "<div><strong>Dask DataFrame Structure:</strong></div>\n",
       "<div>\n",
       "<style scoped>\n",
       "    .dataframe tbody tr th:only-of-type {\n",
       "        vertical-align: middle;\n",
       "    }\n",
       "\n",
       "    .dataframe tbody tr th {\n",
       "        vertical-align: top;\n",
       "    }\n",
       "\n",
       "    .dataframe thead th {\n",
       "        text-align: right;\n",
       "    }\n",
       "</style>\n",
       "<table border=\"1\" class=\"dataframe\">\n",
       "  <thead>\n",
       "    <tr style=\"text-align: right;\">\n",
       "      <th></th>\n",
       "      <th>station_id</th>\n",
       "      <th>num_bikes_available</th>\n",
       "      <th>num_bikes_available_types.mechanical</th>\n",
       "      <th>num_bikes_available_types.ebike</th>\n",
       "      <th>num_docks_available</th>\n",
       "      <th>last_reported</th>\n",
       "      <th>is_charging_station</th>\n",
       "      <th>status</th>\n",
       "      <th>is_installed</th>\n",
       "      <th>is_renting</th>\n",
       "      <th>is_returning</th>\n",
       "      <th>traffic</th>\n",
       "      <th>last_updated</th>\n",
       "      <th>ttl</th>\n",
       "      <th>V1</th>\n",
       "      <th>year</th>\n",
       "      <th>month</th>\n",
       "      <th>day</th>\n",
       "      <th>hour</th>\n",
       "    </tr>\n",
       "    <tr>\n",
       "      <th>npartitions=113</th>\n",
       "      <th></th>\n",
       "      <th></th>\n",
       "      <th></th>\n",
       "      <th></th>\n",
       "      <th></th>\n",
       "      <th></th>\n",
       "      <th></th>\n",
       "      <th></th>\n",
       "      <th></th>\n",
       "      <th></th>\n",
       "      <th></th>\n",
       "      <th></th>\n",
       "      <th></th>\n",
       "      <th></th>\n",
       "      <th></th>\n",
       "      <th></th>\n",
       "      <th></th>\n",
       "      <th></th>\n",
       "      <th></th>\n",
       "    </tr>\n",
       "  </thead>\n",
       "  <tbody>\n",
       "    <tr>\n",
       "      <th></th>\n",
       "      <td>float64</td>\n",
       "      <td>float64</td>\n",
       "      <td>float64</td>\n",
       "      <td>float64</td>\n",
       "      <td>float64</td>\n",
       "      <td>datetime64[ns]</td>\n",
       "      <td>object</td>\n",
       "      <td>object</td>\n",
       "      <td>float64</td>\n",
       "      <td>float64</td>\n",
       "      <td>float64</td>\n",
       "      <td>float64</td>\n",
       "      <td>float64</td>\n",
       "      <td>float64</td>\n",
       "      <td>float64</td>\n",
       "      <td>int64</td>\n",
       "      <td>int64</td>\n",
       "      <td>int64</td>\n",
       "      <td>int64</td>\n",
       "    </tr>\n",
       "    <tr>\n",
       "      <th></th>\n",
       "      <td>...</td>\n",
       "      <td>...</td>\n",
       "      <td>...</td>\n",
       "      <td>...</td>\n",
       "      <td>...</td>\n",
       "      <td>...</td>\n",
       "      <td>...</td>\n",
       "      <td>...</td>\n",
       "      <td>...</td>\n",
       "      <td>...</td>\n",
       "      <td>...</td>\n",
       "      <td>...</td>\n",
       "      <td>...</td>\n",
       "      <td>...</td>\n",
       "      <td>...</td>\n",
       "      <td>...</td>\n",
       "      <td>...</td>\n",
       "      <td>...</td>\n",
       "      <td>...</td>\n",
       "    </tr>\n",
       "    <tr>\n",
       "      <th>...</th>\n",
       "      <td>...</td>\n",
       "      <td>...</td>\n",
       "      <td>...</td>\n",
       "      <td>...</td>\n",
       "      <td>...</td>\n",
       "      <td>...</td>\n",
       "      <td>...</td>\n",
       "      <td>...</td>\n",
       "      <td>...</td>\n",
       "      <td>...</td>\n",
       "      <td>...</td>\n",
       "      <td>...</td>\n",
       "      <td>...</td>\n",
       "      <td>...</td>\n",
       "      <td>...</td>\n",
       "      <td>...</td>\n",
       "      <td>...</td>\n",
       "      <td>...</td>\n",
       "      <td>...</td>\n",
       "    </tr>\n",
       "    <tr>\n",
       "      <th></th>\n",
       "      <td>...</td>\n",
       "      <td>...</td>\n",
       "      <td>...</td>\n",
       "      <td>...</td>\n",
       "      <td>...</td>\n",
       "      <td>...</td>\n",
       "      <td>...</td>\n",
       "      <td>...</td>\n",
       "      <td>...</td>\n",
       "      <td>...</td>\n",
       "      <td>...</td>\n",
       "      <td>...</td>\n",
       "      <td>...</td>\n",
       "      <td>...</td>\n",
       "      <td>...</td>\n",
       "      <td>...</td>\n",
       "      <td>...</td>\n",
       "      <td>...</td>\n",
       "      <td>...</td>\n",
       "    </tr>\n",
       "    <tr>\n",
       "      <th></th>\n",
       "      <td>...</td>\n",
       "      <td>...</td>\n",
       "      <td>...</td>\n",
       "      <td>...</td>\n",
       "      <td>...</td>\n",
       "      <td>...</td>\n",
       "      <td>...</td>\n",
       "      <td>...</td>\n",
       "      <td>...</td>\n",
       "      <td>...</td>\n",
       "      <td>...</td>\n",
       "      <td>...</td>\n",
       "      <td>...</td>\n",
       "      <td>...</td>\n",
       "      <td>...</td>\n",
       "      <td>...</td>\n",
       "      <td>...</td>\n",
       "      <td>...</td>\n",
       "      <td>...</td>\n",
       "    </tr>\n",
       "  </tbody>\n",
       "</table>\n",
       "</div>\n",
       "<div>Dask Name: dropna, 162 graph layers</div>"
      ],
      "text/plain": [
       "Dask DataFrame Structure:\n",
       "                station_id num_bikes_available num_bikes_available_types.mechanical num_bikes_available_types.ebike num_docks_available   last_reported is_charging_station  status is_installed is_renting is_returning  traffic last_updated      ttl       V1   year  month    day   hour\n",
       "npartitions=113                                                                                                                                                                                                                                                                             \n",
       "                   float64             float64                              float64                         float64             float64  datetime64[ns]              object  object      float64    float64      float64  float64      float64  float64  float64  int64  int64  int64  int64\n",
       "                       ...                 ...                                  ...                             ...                 ...             ...                 ...     ...          ...        ...          ...      ...          ...      ...      ...    ...    ...    ...    ...\n",
       "...                    ...                 ...                                  ...                             ...                 ...             ...                 ...     ...          ...        ...          ...      ...          ...      ...      ...    ...    ...    ...    ...\n",
       "                       ...                 ...                                  ...                             ...                 ...             ...                 ...     ...          ...        ...          ...      ...          ...      ...      ...    ...    ...    ...    ...\n",
       "                       ...                 ...                                  ...                             ...                 ...             ...                 ...     ...          ...        ...          ...      ...          ...      ...      ...    ...    ...    ...    ...\n",
       "Dask Name: dropna, 162 graph layers"
      ]
     },
     "execution_count": 4,
     "metadata": {},
     "output_type": "execute_result"
    }
   ],
   "source": [
    "#Transformamos en un formato de hora legible\n",
    "df_datos_bikes[\"last_reported\"] = dd.to_datetime(df_datos_bikes[\"last_reported\"], unit='s')\n",
    "#Descomponemos el Datatime (last_reported)\n",
    "df_datos_bikes[\"year\"] = df_datos_bikes[\"last_reported\"].dt.year\n",
    "df_datos_bikes[\"month\"] = df_datos_bikes[\"last_reported\"].dt.month\n",
    "df_datos_bikes[\"day\"] = df_datos_bikes[\"last_reported\"].dt.day\n",
    "df_datos_bikes[\"hour\"] = df_datos_bikes[\"last_reported\"].dt.hour\n",
    "df_datos_bikes.dropna(subset=['last_reported'])"
   ]
  },
  {
   "cell_type": "code",
   "execution_count": 5,
   "metadata": {
    "execution": {
     "iopub.execute_input": "2025-03-30T22:00:47.424316Z",
     "iopub.status.busy": "2025-03-30T22:00:47.423938Z",
     "iopub.status.idle": "2025-03-30T22:04:25.227452Z",
     "shell.execute_reply": "2025-03-30T22:04:25.226511Z",
     "shell.execute_reply.started": "2025-03-30T22:00:47.424279Z"
    }
   },
   "outputs": [
    {
     "name": "stderr",
     "output_type": "stream",
     "text": [
      "/Users/vitaliymachok/anaconda3/lib/python3.11/site-packages/dask/dataframe/io/csv.py:195: DtypeWarning: Columns (6) have mixed types. Specify dtype option on import or set low_memory=False.\n",
      "  df = reader(bio, **kwargs)\n",
      "/Users/vitaliymachok/anaconda3/lib/python3.11/site-packages/dask/dataframe/io/csv.py:195: DtypeWarning: Columns (6) have mixed types. Specify dtype option on import or set low_memory=False.\n",
      "  df = reader(bio, **kwargs)\n",
      "/Users/vitaliymachok/anaconda3/lib/python3.11/site-packages/dask/dataframe/io/csv.py:195: DtypeWarning: Columns (6) have mixed types. Specify dtype option on import or set low_memory=False.\n",
      "  df = reader(bio, **kwargs)\n",
      "/Users/vitaliymachok/anaconda3/lib/python3.11/site-packages/dask/dataframe/io/csv.py:195: DtypeWarning: Columns (6) have mixed types. Specify dtype option on import or set low_memory=False.\n",
      "  df = reader(bio, **kwargs)\n",
      "/Users/vitaliymachok/anaconda3/lib/python3.11/site-packages/dask/dataframe/io/csv.py:195: DtypeWarning: Columns (6) have mixed types. Specify dtype option on import or set low_memory=False.\n",
      "  df = reader(bio, **kwargs)\n",
      "/Users/vitaliymachok/anaconda3/lib/python3.11/site-packages/dask/dataframe/io/csv.py:195: DtypeWarning: Columns (6) have mixed types. Specify dtype option on import or set low_memory=False.\n",
      "  df = reader(bio, **kwargs)\n",
      "/Users/vitaliymachok/anaconda3/lib/python3.11/site-packages/dask/dataframe/io/csv.py:195: DtypeWarning: Columns (6) have mixed types. Specify dtype option on import or set low_memory=False.\n",
      "  df = reader(bio, **kwargs)\n",
      "/Users/vitaliymachok/anaconda3/lib/python3.11/site-packages/dask/dataframe/io/csv.py:195: DtypeWarning: Columns (6) have mixed types. Specify dtype option on import or set low_memory=False.\n",
      "  df = reader(bio, **kwargs)\n",
      "/Users/vitaliymachok/anaconda3/lib/python3.11/site-packages/dask/dataframe/io/csv.py:195: DtypeWarning: Columns (6) have mixed types. Specify dtype option on import or set low_memory=False.\n",
      "  df = reader(bio, **kwargs)\n",
      "/Users/vitaliymachok/anaconda3/lib/python3.11/site-packages/dask/dataframe/io/csv.py:195: DtypeWarning: Columns (6) have mixed types. Specify dtype option on import or set low_memory=False.\n",
      "  df = reader(bio, **kwargs)\n",
      "/Users/vitaliymachok/anaconda3/lib/python3.11/site-packages/dask/dataframe/io/csv.py:195: DtypeWarning: Columns (6) have mixed types. Specify dtype option on import or set low_memory=False.\n",
      "  df = reader(bio, **kwargs)\n",
      "/Users/vitaliymachok/anaconda3/lib/python3.11/site-packages/dask/dataframe/io/csv.py:195: DtypeWarning: Columns (6) have mixed types. Specify dtype option on import or set low_memory=False.\n",
      "  df = reader(bio, **kwargs)\n",
      "/Users/vitaliymachok/anaconda3/lib/python3.11/site-packages/dask/dataframe/io/csv.py:195: DtypeWarning: Columns (6) have mixed types. Specify dtype option on import or set low_memory=False.\n",
      "  df = reader(bio, **kwargs)\n",
      "/Users/vitaliymachok/anaconda3/lib/python3.11/site-packages/dask/dataframe/io/csv.py:195: DtypeWarning: Columns (6) have mixed types. Specify dtype option on import or set low_memory=False.\n",
      "  df = reader(bio, **kwargs)\n",
      "/Users/vitaliymachok/anaconda3/lib/python3.11/site-packages/dask/dataframe/io/csv.py:195: DtypeWarning: Columns (7) have mixed types. Specify dtype option on import or set low_memory=False.\n",
      "  df = reader(bio, **kwargs)\n"
     ]
    }
   ],
   "source": [
    "df_final = df_datos_bikes.groupby(['station_id', 'year', 'month', 'day', 'hour'])[['num_docks_available','num_bikes_available']].median().round(4).reset_index()\n",
    "# Asegurar que 'result' es un DataFrame de Pandas\n",
    "if not isinstance(df_final, pd.DataFrame):\n",
    "    df_final = df_final.compute() "
   ]
  },
  {
   "cell_type": "code",
   "execution_count": 6,
   "metadata": {
    "execution": {
     "iopub.execute_input": "2025-03-30T22:04:25.229047Z",
     "iopub.status.busy": "2025-03-30T22:04:25.228733Z",
     "iopub.status.idle": "2025-03-30T22:04:43.376650Z",
     "shell.execute_reply": "2025-03-30T22:04:43.375706Z",
     "shell.execute_reply.started": "2025-03-30T22:04:25.229022Z"
    }
   },
   "outputs": [],
   "source": [
    "# Configura la visualización de pandas para mostrar números con 4 decimales\n",
    "pd.options.display.float_format = '{:,.4f}'.format\n",
    "df_final = df_final.round(4)\n",
    "\n",
    "df_final = df_final.loc[df_final['year'] != 1970]\n",
    "df_final[['station_id','year','month','day','hour']] = df_final[['station_id','year','month','day','hour']].astype(int)\n",
    "df_final.year.unique()\n",
    "\n",
    "# Unir los DataFrames usando 'station_id' como clave\n",
    "merged_df = pd.merge(df_final, stations_info, on=\"station_id\", how=\"left\")"
   ]
  },
  {
   "cell_type": "code",
   "execution_count": 7,
   "metadata": {
    "execution": {
     "iopub.execute_input": "2025-03-30T22:04:43.378034Z",
     "iopub.status.busy": "2025-03-30T22:04:43.377671Z",
     "iopub.status.idle": "2025-03-30T22:04:43.614948Z",
     "shell.execute_reply": "2025-03-30T22:04:43.614046Z",
     "shell.execute_reply.started": "2025-03-30T22:04:43.378001Z"
    }
   },
   "outputs": [],
   "source": [
    "# Tenemos que cambiar capacity al max capacity de la estacion para que nos de como mucho 100% disponibilidad\n",
    "merged_df['capacity'].fillna(merged_df['num_bikes_available'] + merged_df['num_docks_available'], inplace=True)\n",
    "\n",
    "merged_df[\"num_docks_available_mod\"] = merged_df['capacity'] - merged_df['num_bikes_available']\n",
    "\n",
    "# Agregar la columna \"percentage_docks_available\"\n",
    "merged_df[\"percentage_docks_available\"] = merged_df[\"num_docks_available_mod\"] / merged_df[\"capacity\"]\n",
    "\n",
    "# Opcional: llenar valores NaN si hay estaciones sin capacidad registrada\n",
    "merged_df[\"percentage_docks_available\"].fillna(0, inplace=True)"
   ]
  },
  {
   "cell_type": "code",
   "execution_count": 8,
   "metadata": {
    "execution": {
     "iopub.execute_input": "2025-03-30T22:06:29.552312Z",
     "iopub.status.busy": "2025-03-30T22:06:29.551781Z",
     "iopub.status.idle": "2025-03-30T22:07:05.646143Z",
     "shell.execute_reply": "2025-03-30T22:07:05.645049Z",
     "shell.execute_reply.started": "2025-03-30T22:06:29.552270Z"
    }
   },
   "outputs": [],
   "source": [
    "# Ordenar los datos correctamente antes de agrupar\n",
    "df_prediction_task = merged_df.sort_values(\n",
    "    by=['station_id', 'year', 'month', 'day', 'hour']\n",
    ")\n",
    "\n",
    "for i in range(1, 5):\n",
    "    df_prediction_task = df_prediction_task.sort_values(by=['station_id','year', 'month', 'day', 'hour'])  # Ordena correctamente\n",
    "    df_prediction_task[f'disponibilidad_porcentage_{i}h_antes'] = (\n",
    "        df_prediction_task.groupby('station_id')['percentage_docks_available']\n",
    "        .shift(i)  # Desplazamiento de i horas\n",
    "        .fillna(0)  # Reemplaza NaN con 0\n",
    "    )\n"
   ]
  },
  {
   "cell_type": "code",
   "execution_count": 9,
   "metadata": {
    "execution": {
     "iopub.execute_input": "2025-03-30T22:07:05.647832Z",
     "iopub.status.busy": "2025-03-30T22:07:05.647417Z",
     "iopub.status.idle": "2025-03-30T22:07:05.977250Z",
     "shell.execute_reply": "2025-03-30T22:07:05.976057Z",
     "shell.execute_reply.started": "2025-03-30T22:07:05.647795Z"
    }
   },
   "outputs": [
    {
     "data": {
      "text/html": [
       "<div>\n",
       "<style scoped>\n",
       "    .dataframe tbody tr th:only-of-type {\n",
       "        vertical-align: middle;\n",
       "    }\n",
       "\n",
       "    .dataframe tbody tr th {\n",
       "        vertical-align: top;\n",
       "    }\n",
       "\n",
       "    .dataframe thead th {\n",
       "        text-align: right;\n",
       "    }\n",
       "</style>\n",
       "<table border=\"1\" class=\"dataframe\">\n",
       "  <thead>\n",
       "    <tr style=\"text-align: right;\">\n",
       "      <th></th>\n",
       "      <th>station_id</th>\n",
       "      <th>year</th>\n",
       "      <th>month</th>\n",
       "      <th>day</th>\n",
       "      <th>hour</th>\n",
       "      <th>percentage_docks_available</th>\n",
       "      <th>disponibilidad_porcentage_1h_antes</th>\n",
       "      <th>disponibilidad_porcentage_2h_antes</th>\n",
       "      <th>disponibilidad_porcentage_3h_antes</th>\n",
       "      <th>disponibilidad_porcentage_4h_antes</th>\n",
       "    </tr>\n",
       "  </thead>\n",
       "  <tbody>\n",
       "    <tr>\n",
       "      <th>3883759</th>\n",
       "      <td>1</td>\n",
       "      <td>2021</td>\n",
       "      <td>12</td>\n",
       "      <td>31</td>\n",
       "      <td>22</td>\n",
       "      <td>0.6087</td>\n",
       "      <td>0.0000</td>\n",
       "      <td>0.0000</td>\n",
       "      <td>0.0000</td>\n",
       "      <td>0.0000</td>\n",
       "    </tr>\n",
       "    <tr>\n",
       "      <th>5365125</th>\n",
       "      <td>1</td>\n",
       "      <td>2021</td>\n",
       "      <td>12</td>\n",
       "      <td>31</td>\n",
       "      <td>23</td>\n",
       "      <td>0.6196</td>\n",
       "      <td>0.6087</td>\n",
       "      <td>0.0000</td>\n",
       "      <td>0.0000</td>\n",
       "      <td>0.0000</td>\n",
       "    </tr>\n",
       "    <tr>\n",
       "      <th>5365163</th>\n",
       "      <td>1</td>\n",
       "      <td>2022</td>\n",
       "      <td>1</td>\n",
       "      <td>1</td>\n",
       "      <td>0</td>\n",
       "      <td>0.6957</td>\n",
       "      <td>0.6196</td>\n",
       "      <td>0.6087</td>\n",
       "      <td>0.0000</td>\n",
       "      <td>0.0000</td>\n",
       "    </tr>\n",
       "    <tr>\n",
       "      <th>7588905</th>\n",
       "      <td>1</td>\n",
       "      <td>2022</td>\n",
       "      <td>1</td>\n",
       "      <td>1</td>\n",
       "      <td>1</td>\n",
       "      <td>0.7391</td>\n",
       "      <td>0.6957</td>\n",
       "      <td>0.6196</td>\n",
       "      <td>0.6087</td>\n",
       "      <td>0.0000</td>\n",
       "    </tr>\n",
       "    <tr>\n",
       "      <th>916079</th>\n",
       "      <td>1</td>\n",
       "      <td>2022</td>\n",
       "      <td>1</td>\n",
       "      <td>1</td>\n",
       "      <td>2</td>\n",
       "      <td>0.7391</td>\n",
       "      <td>0.7391</td>\n",
       "      <td>0.6957</td>\n",
       "      <td>0.6196</td>\n",
       "      <td>0.6087</td>\n",
       "    </tr>\n",
       "    <tr>\n",
       "      <th>3883942</th>\n",
       "      <td>1</td>\n",
       "      <td>2022</td>\n",
       "      <td>1</td>\n",
       "      <td>1</td>\n",
       "      <td>3</td>\n",
       "      <td>0.7174</td>\n",
       "      <td>0.7391</td>\n",
       "      <td>0.7391</td>\n",
       "      <td>0.6957</td>\n",
       "      <td>0.6196</td>\n",
       "    </tr>\n",
       "    <tr>\n",
       "      <th>2399841</th>\n",
       "      <td>1</td>\n",
       "      <td>2022</td>\n",
       "      <td>1</td>\n",
       "      <td>1</td>\n",
       "      <td>4</td>\n",
       "      <td>0.7174</td>\n",
       "      <td>0.7174</td>\n",
       "      <td>0.7391</td>\n",
       "      <td>0.7391</td>\n",
       "      <td>0.6957</td>\n",
       "    </tr>\n",
       "    <tr>\n",
       "      <th>916195</th>\n",
       "      <td>1</td>\n",
       "      <td>2022</td>\n",
       "      <td>1</td>\n",
       "      <td>1</td>\n",
       "      <td>5</td>\n",
       "      <td>0.6739</td>\n",
       "      <td>0.7174</td>\n",
       "      <td>0.7174</td>\n",
       "      <td>0.7391</td>\n",
       "      <td>0.7391</td>\n",
       "    </tr>\n",
       "    <tr>\n",
       "      <th>5365371</th>\n",
       "      <td>1</td>\n",
       "      <td>2022</td>\n",
       "      <td>1</td>\n",
       "      <td>1</td>\n",
       "      <td>6</td>\n",
       "      <td>0.6522</td>\n",
       "      <td>0.6739</td>\n",
       "      <td>0.7174</td>\n",
       "      <td>0.7174</td>\n",
       "      <td>0.7391</td>\n",
       "    </tr>\n",
       "    <tr>\n",
       "      <th>9813984</th>\n",
       "      <td>1</td>\n",
       "      <td>2022</td>\n",
       "      <td>1</td>\n",
       "      <td>1</td>\n",
       "      <td>7</td>\n",
       "      <td>0.6304</td>\n",
       "      <td>0.6522</td>\n",
       "      <td>0.6739</td>\n",
       "      <td>0.7174</td>\n",
       "      <td>0.7174</td>\n",
       "    </tr>\n",
       "  </tbody>\n",
       "</table>\n",
       "</div>"
      ],
      "text/plain": [
       "         station_id  year  month  day  hour  percentage_docks_available  \\\n",
       "3883759           1  2021     12   31    22                      0.6087   \n",
       "5365125           1  2021     12   31    23                      0.6196   \n",
       "5365163           1  2022      1    1     0                      0.6957   \n",
       "7588905           1  2022      1    1     1                      0.7391   \n",
       "916079            1  2022      1    1     2                      0.7391   \n",
       "3883942           1  2022      1    1     3                      0.7174   \n",
       "2399841           1  2022      1    1     4                      0.7174   \n",
       "916195            1  2022      1    1     5                      0.6739   \n",
       "5365371           1  2022      1    1     6                      0.6522   \n",
       "9813984           1  2022      1    1     7                      0.6304   \n",
       "\n",
       "         disponibilidad_porcentage_1h_antes  \\\n",
       "3883759                              0.0000   \n",
       "5365125                              0.6087   \n",
       "5365163                              0.6196   \n",
       "7588905                              0.6957   \n",
       "916079                               0.7391   \n",
       "3883942                              0.7391   \n",
       "2399841                              0.7174   \n",
       "916195                               0.7174   \n",
       "5365371                              0.6739   \n",
       "9813984                              0.6522   \n",
       "\n",
       "         disponibilidad_porcentage_2h_antes  \\\n",
       "3883759                              0.0000   \n",
       "5365125                              0.0000   \n",
       "5365163                              0.6087   \n",
       "7588905                              0.6196   \n",
       "916079                               0.6957   \n",
       "3883942                              0.7391   \n",
       "2399841                              0.7391   \n",
       "916195                               0.7174   \n",
       "5365371                              0.7174   \n",
       "9813984                              0.6739   \n",
       "\n",
       "         disponibilidad_porcentage_3h_antes  \\\n",
       "3883759                              0.0000   \n",
       "5365125                              0.0000   \n",
       "5365163                              0.0000   \n",
       "7588905                              0.6087   \n",
       "916079                               0.6196   \n",
       "3883942                              0.6957   \n",
       "2399841                              0.7391   \n",
       "916195                               0.7391   \n",
       "5365371                              0.7174   \n",
       "9813984                              0.7174   \n",
       "\n",
       "         disponibilidad_porcentage_4h_antes  \n",
       "3883759                              0.0000  \n",
       "5365125                              0.0000  \n",
       "5365163                              0.0000  \n",
       "7588905                              0.0000  \n",
       "916079                               0.6087  \n",
       "3883942                              0.6196  \n",
       "2399841                              0.6957  \n",
       "916195                               0.7391  \n",
       "5365371                              0.7391  \n",
       "9813984                              0.7174  "
      ]
     },
     "execution_count": 9,
     "metadata": {},
     "output_type": "execute_result"
    }
   ],
   "source": [
    "# Ordenar cronológicamente y mostrar solo las columnas importantes\n",
    "#df_prediction_task = df_prediction_task.sort_values(by=['year', 'month', 'day', 'hour'])\n",
    "\n",
    "df_prediction_task[['station_id', 'year', 'month', 'day', 'hour', \n",
    "                   'percentage_docks_available', \n",
    "                   'disponibilidad_porcentage_1h_antes', \n",
    "                   'disponibilidad_porcentage_2h_antes', \n",
    "                   'disponibilidad_porcentage_3h_antes', \n",
    "                   'disponibilidad_porcentage_4h_antes']].head(10)  # Puedes ajustar el número de filas"
   ]
  },
  {
   "cell_type": "code",
   "execution_count": 10,
   "metadata": {
    "execution": {
     "iopub.execute_input": "2025-03-30T22:07:05.979687Z",
     "iopub.status.busy": "2025-03-30T22:07:05.979377Z",
     "iopub.status.idle": "2025-03-30T22:07:40.256126Z",
     "shell.execute_reply": "2025-03-30T22:07:40.255089Z",
     "shell.execute_reply.started": "2025-03-30T22:07:05.979662Z"
    }
   },
   "outputs": [
    {
     "name": "stderr",
     "output_type": "stream",
     "text": [
      "/var/folders/rl/1dvpchx96d9fmfybjz5_9_xw0000gn/T/ipykernel_44714/218570749.py:7: SettingWithCopyWarning: \n",
      "A value is trying to be set on a copy of a slice from a DataFrame.\n",
      "Try using .loc[row_indexer,col_indexer] = value instead\n",
      "\n",
      "See the caveats in the documentation: https://pandas.pydata.org/pandas-docs/stable/user_guide/indexing.html#returning-a-view-versus-a-copy\n",
      "  df_prediction_task['nearest_station_distance_cap']=df_prediction_task['nearest_station_distance'].clip(lower=percentil_1, upper=percentil_99)\n",
      "/var/folders/rl/1dvpchx96d9fmfybjz5_9_xw0000gn/T/ipykernel_44714/218570749.py:9: SettingWithCopyWarning: \n",
      "A value is trying to be set on a copy of a slice from a DataFrame.\n",
      "Try using .loc[row_indexer,col_indexer] = value instead\n",
      "\n",
      "See the caveats in the documentation: https://pandas.pydata.org/pandas-docs/stable/user_guide/indexing.html#returning-a-view-versus-a-copy\n",
      "  df_prediction_task['Date'] = pd.to_datetime(df_prediction_task[['year', 'month', 'day']].astype(str).agg('-'.join, axis=1))\n",
      "/var/folders/rl/1dvpchx96d9fmfybjz5_9_xw0000gn/T/ipykernel_44714/218570749.py:84: DeprecationWarning: In a future version, `df.iloc[:, i] = newvals` will attempt to set the values inplace instead of always setting a new array. To retain the old behavior, use either `df[df.columns[i]] = newvals` or, if columns are non-unique, `df.isetitem(i, newvals)`\n",
      "  df_prediction_task.fillna(df_prediction_task.mode().iloc[0], inplace=True)\n"
     ]
    }
   ],
   "source": [
    "# Only getting each 5th row to avoid having repeated data\n",
    "df_prediction_sorted = df_prediction_task.sort_values(by=['station_id', 'year', 'month', 'day', 'hour']).reset_index(drop=True)\n",
    "df_prediction_task = df_prediction_sorted.iloc[::5]\n",
    "\n",
    "percentil_1 = df_prediction_task['nearest_station_distance'].quantile(0.01)\n",
    "percentil_99 = df_prediction_task['nearest_station_distance'].quantile(0.99)\n",
    "df_prediction_task['nearest_station_distance_cap']=df_prediction_task['nearest_station_distance'].clip(lower=percentil_1, upper=percentil_99)\n",
    "\n",
    "df_prediction_task['Date'] = pd.to_datetime(df_prediction_task[['year', 'month', 'day']].astype(str).agg('-'.join, axis=1))\n",
    "calendar['Date'] = pd.to_datetime(calendar['date'], errors='coerce')\n",
    "\n",
    "df_prediction_task = df_prediction_task.merge(\n",
    "    calendar[['Date','special_event']],  # Seleccionamos la columna específica de df_extra\n",
    "    on='Date',  # Columna común para la fusión\n",
    "    how='left'  # Realizamos el left join\n",
    ")\n",
    "\n",
    "df_prediction_task['special_event'] = df_prediction_task['special_event'].replace({True: 1, False: 0})\n",
    "\n",
    "# Agregar la columna 'is_weekend' (1 si es sábado o domingo, 0 en otros casos)\n",
    "df_prediction_task['is_weekend'] = df_prediction_task['Date'].dt.weekday.isin([5, 6]).astype(int)\n",
    "\n",
    "festivos_data = [\n",
    "    (2022, 1, 1, \"Año Nuevo\"),\n",
    "    (2022, 1, 6, \"Reyes Magos\"),\n",
    "    (2022, 4, 15, \"Viernes Santo\"),\n",
    "    (2022, 4, 18, \"Lunes de Pascua\"),\n",
    "    (2022, 5, 1, \"Día del Trabajador\"),\n",
    "    (2022, 6, 6, \"Segunda Pascua (festivo local)\"),\n",
    "    (2022, 6, 24, \"San Juan\"),\n",
    "    (2022, 8, 15, \"La Asunción\"),\n",
    "    (2022, 9, 24, \"La Mercè (festivo local)\"),\n",
    "    (2022, 10, 12, \"Fiesta Nacional de España\"),\n",
    "    (2022, 11, 1, \"Todos los Santos\"),\n",
    "    (2022, 12, 6, \"Día de la Constitución\"),\n",
    "    (2022, 12, 8, \"La Inmaculada\"),\n",
    "    (2022, 12, 25, \"Navidad\"),\n",
    "    (2022, 12, 26, \"San Esteban\"),\n",
    "\n",
    "    (2023, 1, 1, \"Año Nuevo\"),\n",
    "    (2023, 1, 6, \"Reyes Magos\"),\n",
    "    (2023, 4, 7, \"Viernes Santo\"),\n",
    "    (2023, 4, 10, \"Lunes de Pascua\"),\n",
    "    (2023, 5, 1, \"Día del Trabajador\"),\n",
    "    (2023, 5, 29, \"Segunda Pascua (festivo local)\"),\n",
    "    (2023, 6, 24, \"San Juan\"),\n",
    "    (2023, 8, 15, \"La Asunción\"),\n",
    "    (2023, 9, 11, \"Diada de Cataluña\"),\n",
    "    (2023, 9, 25, \"La Mercè (festivo local)\"),\n",
    "    (2023, 10, 12, \"Fiesta Nacional de España\"),\n",
    "    (2023, 11, 1, \"Todos los Santos\"),\n",
    "    (2023, 12, 6, \"Día de la Constitución\"),\n",
    "    (2023, 12, 8, \"La Inmaculada\"),\n",
    "    (2023, 12, 25, \"Navidad\"),\n",
    "    (2023, 12, 26, \"San Esteban\"),\n",
    "\n",
    "    (2024, 1, 1, \"Año Nuevo\"),\n",
    "    (2024, 1, 6, \"Reyes Magos\"),\n",
    "    (2024, 3, 29, \"Viernes Santo\"),\n",
    "    (2024, 4, 1, \"Lunes de Pascua\"),\n",
    "    (2024, 5, 1, \"Día del Trabajador\"),\n",
    "    (2024, 5, 20, \"Segunda Pascua (festivo local)\"),\n",
    "    (2024, 6, 24, \"San Juan\"),\n",
    "    (2024, 8, 15, \"La Asunción\"),\n",
    "    (2024, 9, 11, \"Diada de Cataluña\"),\n",
    "    (2024, 9, 24, \"La Mercè (festivo local)\"),\n",
    "    (2024, 10, 12, \"Fiesta Nacional de España\"),\n",
    "    (2024, 11, 1, \"Todos los Santos\"),\n",
    "    (2024, 12, 6, \"Día de la Constitución\"),\n",
    "    (2024, 12, 8, \"La Inmaculada\"),\n",
    "    (2024, 12, 25, \"Navidad\"),\n",
    "    (2024, 12, 26, \"San Esteban\"),\n",
    "]\n",
    "\n",
    "# Crear el DataFrame\n",
    "df_holidays = pd.DataFrame(festivos_data, columns=[\"year\", \"month\", \"day\", \"name\"])\n",
    "\n",
    "# Crear una nueva columna con la fecha completa en df_festivos\n",
    "df_holidays[\"Date\"] = pd.to_datetime(df_holidays[[\"year\", \"month\", \"day\"]])\n",
    "\n",
    "# Marcar si la fecha en df_prediction_task es un feriado\n",
    "df_prediction_task[\"is_holiday\"] = df_prediction_task[\"Date\"].isin(df_holidays[\"Date\"]).astype(int)\n",
    "# Filling N/As with Most Repeated Value\n",
    "df_prediction_task.fillna(df_prediction_task.mode().iloc[0], inplace=True)\n",
    "df_prediction_task['cross_street_mod'] = df_prediction_task['cross_street'].str[:2]\n",
    "df_prediction_task['Cross_barrio'] = df_prediction_task['cross_street'].str.extract(r'\\/(\\d+)')"
   ]
  },
  {
   "cell_type": "code",
   "execution_count": 11,
   "metadata": {
    "execution": {
     "iopub.execute_input": "2025-03-30T22:07:40.258742Z",
     "iopub.status.busy": "2025-03-30T22:07:40.258407Z",
     "iopub.status.idle": "2025-03-30T22:07:40.265327Z",
     "shell.execute_reply": "2025-03-30T22:07:40.264197Z",
     "shell.execute_reply.started": "2025-03-30T22:07:40.258717Z"
    }
   },
   "outputs": [
    {
     "data": {
      "text/plain": [
       "Index(['station_id', 'year', 'month', 'day', 'hour', 'num_docks_available',\n",
       "       'num_bikes_available', 'name', 'physical_configuration', 'lat', 'lon',\n",
       "       'altitude', 'address', 'cross_street', 'post_code', 'capacity',\n",
       "       'is_charging_station', 'short_name', 'nearby_distance',\n",
       "       '_ride_code_support', 'rental_uris', 'is_valet_station',\n",
       "       'nearest_station_id', 'nearest_station_distance',\n",
       "       'stations_within_100m', 'stations_within_300m', 'stations_within_500m',\n",
       "       'nearest_metro', 'distance_to_nearest_metro', 'num_docks_available_mod',\n",
       "       'percentage_docks_available', 'disponibilidad_porcentage_1h_antes',\n",
       "       'disponibilidad_porcentage_2h_antes',\n",
       "       'disponibilidad_porcentage_3h_antes',\n",
       "       'disponibilidad_porcentage_4h_antes', 'nearest_station_distance_cap',\n",
       "       'Date', 'special_event', 'is_weekend', 'is_holiday', 'cross_street_mod',\n",
       "       'Cross_barrio'],\n",
       "      dtype='object')"
      ]
     },
     "execution_count": 11,
     "metadata": {},
     "output_type": "execute_result"
    }
   ],
   "source": [
    "df_prediction_task.columns"
   ]
  },
  {
   "cell_type": "code",
   "execution_count": 12,
   "metadata": {
    "execution": {
     "iopub.execute_input": "2025-03-30T22:33:33.328366Z",
     "iopub.status.busy": "2025-03-30T22:33:33.327864Z",
     "iopub.status.idle": "2025-03-30T22:33:36.911454Z",
     "shell.execute_reply": "2025-03-30T22:33:36.910445Z",
     "shell.execute_reply.started": "2025-03-30T22:33:33.328326Z"
    }
   },
   "outputs": [
    {
     "name": "stderr",
     "output_type": "stream",
     "text": [
      "/var/folders/rl/1dvpchx96d9fmfybjz5_9_xw0000gn/T/ipykernel_44714/1495120890.py:25: DeprecationWarning: In a future version, `df.iloc[:, i] = newvals` will attempt to set the values inplace instead of always setting a new array. To retain the old behavior, use either `df[df.columns[i]] = newvals` or, if columns are non-unique, `df.isetitem(i, newvals)`\n",
      "  test_data.fillna(df_prediction_task.mode().iloc[0], inplace=True)\n"
     ]
    }
   ],
   "source": [
    "test_data_read = pd.read_csv('metadata_sample_submission_2025.csv')\n",
    "test_data = pd.merge(test_data_read, stations_info, on=\"station_id\", how=\"left\")\n",
    "\n",
    "test_data['nearest_station_distance_cap']=test_data['nearest_station_distance'].clip(lower=percentil_1, upper=percentil_99)\n",
    "test_data['Date'] = pd.to_datetime('2025-' + test_data['month'].astype(str).str.zfill(2) + '-' + test_data['day'].astype(str).str.zfill(2))\n",
    "calendar['Date'] = pd.to_datetime(calendar['date'], errors='coerce')\n",
    "\n",
    "test_data = test_data.merge(\n",
    "    calendar[['Date','special_event']],  # Seleccionamos la columna específica de df_extra\n",
    "    on='Date',  # Columna común para la fusión\n",
    "    how='left'  # Realizamos el left join\n",
    ")\n",
    "\n",
    "test_data['special_event'] = test_data['special_event'].replace({True: 1, False: 0})\n",
    "\n",
    "# Agregar la columna 'is_weekend' (1 si es sábado o domingo, 0 en otros casos)\n",
    "test_data['is_weekend'] = test_data['Date'].dt.weekday.isin([5, 6]).astype(int)\n",
    "\n",
    "# Crear una nueva columna con la fecha completa en df_festivos\n",
    "df_holidays[\"Date\"] = pd.to_datetime(df_holidays[[\"year\", \"month\", \"day\"]])\n",
    "\n",
    "# Marcar si la fecha en df_prediction_task es un feriado\n",
    "test_data[\"is_holiday\"] = test_data[\"Date\"].isin(df_holidays[\"Date\"]).astype(int)\n",
    "# Filling N/As with Most Repeated Value\n",
    "test_data.fillna(df_prediction_task.mode().iloc[0], inplace=True)\n",
    "test_data['cross_street_mod'] = test_data['cross_street'].str[:2]\n",
    "test_data['Cross_barrio'] = test_data['cross_street'].str.extract(r'\\/(\\d+)')"
   ]
  },
  {
   "cell_type": "code",
   "execution_count": 13,
   "metadata": {
    "execution": {
     "iopub.execute_input": "2025-03-30T22:33:36.913380Z",
     "iopub.status.busy": "2025-03-30T22:33:36.913096Z",
     "iopub.status.idle": "2025-03-30T22:33:37.054167Z",
     "shell.execute_reply": "2025-03-30T22:33:37.053043Z",
     "shell.execute_reply.started": "2025-03-30T22:33:36.913355Z"
    }
   },
   "outputs": [],
   "source": [
    "test_data = test_data.rename(columns={\n",
    "    'ctx-1': 'disponibilidad_porcentage_1h_antes',\n",
    "    'ctx-2': 'disponibilidad_porcentage_2h_antes',\n",
    "    'ctx-3': 'disponibilidad_porcentage_3h_antes',\n",
    "    'ctx-4': 'disponibilidad_porcentage_4h_antes'\n",
    "})"
   ]
  },
  {
   "cell_type": "code",
   "execution_count": 14,
   "metadata": {
    "execution": {
     "iopub.execute_input": "2025-03-30T22:33:37.056186Z",
     "iopub.status.busy": "2025-03-30T22:33:37.055887Z",
     "iopub.status.idle": "2025-03-30T22:33:37.063047Z",
     "shell.execute_reply": "2025-03-30T22:33:37.061757Z",
     "shell.execute_reply.started": "2025-03-30T22:33:37.056161Z"
    }
   },
   "outputs": [
    {
     "data": {
      "text/plain": [
       "Index(['index', 'station_id', 'month', 'day', 'hour',\n",
       "       'disponibilidad_porcentage_4h_antes',\n",
       "       'disponibilidad_porcentage_3h_antes',\n",
       "       'disponibilidad_porcentage_2h_antes',\n",
       "       'disponibilidad_porcentage_1h_antes', 'name', 'physical_configuration',\n",
       "       'lat', 'lon', 'altitude', 'address', 'cross_street', 'post_code',\n",
       "       'capacity', 'is_charging_station', 'short_name', 'nearby_distance',\n",
       "       '_ride_code_support', 'rental_uris', 'is_valet_station',\n",
       "       'nearest_station_id', 'nearest_station_distance',\n",
       "       'stations_within_100m', 'stations_within_300m', 'stations_within_500m',\n",
       "       'nearest_metro', 'distance_to_nearest_metro',\n",
       "       'nearest_station_distance_cap', 'Date', 'special_event', 'is_weekend',\n",
       "       'is_holiday', 'cross_street_mod', 'Cross_barrio'],\n",
       "      dtype='object')"
      ]
     },
     "execution_count": 14,
     "metadata": {},
     "output_type": "execute_result"
    }
   ],
   "source": [
    "test_data.columns"
   ]
  },
  {
   "cell_type": "code",
   "execution_count": 15,
   "metadata": {
    "execution": {
     "iopub.execute_input": "2025-03-30T22:33:40.100011Z",
     "iopub.status.busy": "2025-03-30T22:33:40.099659Z",
     "iopub.status.idle": "2025-03-30T22:33:52.350712Z",
     "shell.execute_reply": "2025-03-30T22:33:52.349638Z",
     "shell.execute_reply.started": "2025-03-30T22:33:40.099986Z"
    }
   },
   "outputs": [
    {
     "name": "stdout",
     "output_type": "stream",
     "text": [
      "Test R-squared: 1.0000\n",
      "Test Mean Squared Error: 0.0000\n"
     ]
    },
    {
     "data": {
      "text/plain": [
       "<Figure size 1000x800 with 0 Axes>"
      ]
     },
     "metadata": {},
     "output_type": "display_data"
    },
    {
     "data": {
      "image/png": "[encoded data removed]",
      "text/plain": [
       "<Figure size 640x480 with 1 Axes>"
      ]
     },
     "metadata": {},
     "output_type": "display_data"
    }
   ],
   "source": [
    "import pandas as pd\n",
    "import xgboost as xgb\n",
    "from sklearn.preprocessing import StandardScaler\n",
    "from sklearn.metrics import mean_squared_error, r2_score\n",
    "import matplotlib.pyplot as plt\n",
    "\n",
    "# Define feature columns and target\n",
    "features = ['month', 'hour', 'capacity', 'is_weekend', 'is_holiday',\n",
    "           'disponibilidad_porcentage_1h_antes','altitude', #'special_event',\n",
    "          'disponibilidad_porcentage_2h_antes', \n",
    "          # 'disponibilidad_porcentage_3h_antes',\n",
    "           #'disponibilidad_porcentage_4h_antes', \n",
    "            'nearest_station_distance_cap',\n",
    "            'stations_within_300m']\n",
    "\n",
    "target_variable = 'percentage_docks_available'\n",
    "\n",
    "# Drop NA rows in training data\n",
    "df_prediction_task = df_prediction_task.dropna(subset=features + [target_variable])\n",
    "\n",
    "# Split into features and target\n",
    "X_train = df_prediction_task[features]\n",
    "y_train = df_prediction_task[target_variable]\n",
    "\n",
    "# Standardize the data\n",
    "scaler = StandardScaler()\n",
    "X_train_scaled = scaler.fit_transform(X_train)\n",
    "\n",
    "# Initialize and train model\n",
    "xgb_model = xgb.XGBRegressor(objective='reg:squarederror', random_state=42)\n",
    "xgb_model.fit(X_train_scaled, y_train)\n",
    "\n",
    "# --- APPLY TO TEST DATA ---\n",
    "# Ensure test data has necessary features (and drop NA if needed)\n",
    "test_data = test_data.dropna(subset=features)\n",
    "X_test = test_data[features]\n",
    "X_test_scaled = scaler.transform(X_test)  # Use the same scaler from training\n",
    "\n",
    "# Make predictions\n",
    "test_data['percentage_docks_available'] = xgb_model.predict(X_test_scaled)\n",
    "\n",
    "# --- OPTIONAL: Evaluate if target is available in test_data ---\n",
    "if target_variable in test_data.columns:\n",
    "    y_test = test_data[target_variable]\n",
    "    y_pred = test_data['percentage_docks_available']\n",
    "    r2 = r2_score(y_test, y_pred)\n",
    "    mse = mean_squared_error(y_test, y_pred)\n",
    "    print(f\"Test R-squared: {r2:.4f}\")\n",
    "    print(f\"Test Mean Squared Error: {mse:.4f}\")\n",
    "\n",
    "# --- Feature Importance ---\n",
    "plt.figure(figsize=(10, 8))\n",
    "xgb.plot_importance(xgb_model, importance_type='weight', max_num_features=10,\n",
    "                    title='XGBoost Feature Importance', height=0.8,\n",
    "                    xlabel='Weight (number of times the feature is used)')\n",
    "plt.show()"
   ]
  },
  {
   "cell_type": "code",
   "execution_count": 16,
   "metadata": {},
   "outputs": [],
   "source": [
    "import pandas as pd\n",
    "\n",
    "# Seleccionar las columnas que usarás en el modelo\n",
    "features_ = ['month', 'day', 'hour',\n",
    "           'disponibilidad_porcentage_1h_antes',\n",
    "          'disponibilidad_porcentage_2h_antes',\n",
    "          'disponibilidad_porcentage_3h_antes',\n",
    "           'disponibilidad_porcentage_4h_antes']\n",
    "\n",
    "target = 'percentage_docks_available'\n",
    "\n",
    "df_check = df_prediction_task[features_ + [target]].copy()"
   ]
  },
  {
   "cell_type": "code",
   "execution_count": 17,
   "metadata": {},
   "outputs": [],
   "source": [
    "# Eliminar filas vacías\n",
    "df_check = df_check.dropna(subset=features_ + [target])\n",
    "df_check.drop_duplicates(inplace=True)"
   ]
  },
  {
   "cell_type": "code",
   "execution_count": 18,
   "metadata": {},
   "outputs": [],
   "source": [
    "from sklearn.preprocessing import MinMaxScaler\n",
    "from sklearn.metrics import mean_squared_error, r2_score\n",
    "from tensorflow.keras.models import Sequential\n",
    "from tensorflow.keras.layers import LSTM, Dense\n",
    "\n",
    "# Separar X e y\n",
    "X_raw_train = df_check[features_].values\n",
    "y_raw_train = df_check[[target]].values\n",
    "\n",
    "X_raw_test = test_data[features_].values\n",
    "y_raw_test = test_data[[target]].values\n",
    "\n",
    "# Split train/test\n",
    "#split = int(len(X) * 0.8)\n",
    "#X_raw_train, X_raw_test = X[:split], X[split:]\n",
    "#y_raw_train, y_raw_test = y[:split], y[split:]\n",
    "\n",
    "# Escalar\n",
    "scaler_X = MinMaxScaler()\n",
    "X_train_scaled = scaler_X.fit_transform(X_raw_train)\n",
    "X_test_scaled = scaler_X.transform(X_raw_test)\n",
    "\n",
    "scaler_y = MinMaxScaler()\n",
    "y_train_scaled = scaler_y.fit_transform(y_raw_train)\n",
    "y_test_scaled = scaler_y.transform(y_raw_test)\n",
    "\n",
    "# Reshape para LSTM\n",
    "X_train = X_train_scaled.reshape((X_train_scaled.shape[0], len(features_), 1))\n",
    "X_test = X_test_scaled.reshape((X_test_scaled.shape[0], len(features_), 1))"
   ]
  },
  {
   "cell_type": "code",
   "execution_count": 19,
   "metadata": {},
   "outputs": [],
   "source": [
    "# Modelo LSTM\n",
    "model = Sequential()\n",
    "model.add(LSTM(50, activation='relu', input_shape=(X_train.shape[1], X_train.shape[2])))\n",
    "model.add(Dense(1))\n",
    "model.compile(optimizer='adam', loss='mean_squared_error')"
   ]
  },
  {
   "cell_type": "code",
   "execution_count": 20,
   "metadata": {},
   "outputs": [
    {
     "name": "stdout",
     "output_type": "stream",
     "text": [
      "Epoch 1/10\n",
      "115825/115825 [==============================] - 121s 1ms/step - loss: 0.0044 - val_loss: 0.0025\n",
      "Epoch 2/10\n",
      "115825/115825 [==============================] - 135s 1ms/step - loss: 0.0039 - val_loss: 0.0029\n",
      "Epoch 3/10\n",
      "115825/115825 [==============================] - 135s 1ms/step - loss: 0.0038 - val_loss: 0.0024\n",
      "Epoch 4/10\n",
      "115825/115825 [==============================] - 134s 1ms/step - loss: 0.0038 - val_loss: 0.0025\n",
      "Epoch 5/10\n",
      "115825/115825 [==============================] - 135s 1ms/step - loss: 0.0038 - val_loss: 0.0026\n",
      "Epoch 6/10\n",
      "115825/115825 [==============================] - 135s 1ms/step - loss: 0.0038 - val_loss: 0.0024\n",
      "Epoch 7/10\n",
      "115825/115825 [==============================] - 152s 1ms/step - loss: 0.0038 - val_loss: 0.0024\n",
      "Epoch 8/10\n",
      "115825/115825 [==============================] - 134s 1ms/step - loss: 0.0038 - val_loss: 0.0024\n",
      "Epoch 9/10\n",
      "115825/115825 [==============================] - 134s 1ms/step - loss: 0.0037 - val_loss: 0.0024\n",
      "Epoch 10/10\n",
      "115825/115825 [==============================] - 136s 1ms/step - loss: 0.0037 - val_loss: 0.0024\n"
     ]
    },
    {
     "data": {
      "text/plain": [
       "<keras.src.callbacks.History at 0x15c8124d0>"
      ]
     },
     "execution_count": 20,
     "metadata": {},
     "output_type": "execute_result"
    }
   ],
   "source": [
    "model.fit(X_train, y_train_scaled, epochs=10, batch_size=16, validation_split=0.1)"
   ]
  },
  {
   "cell_type": "code",
   "execution_count": 21,
   "metadata": {},
   "outputs": [
    {
     "name": "stdout",
     "output_type": "stream",
     "text": [
      "12548/12548 [==============================] - 5s 374us/step\n"
     ]
    }
   ],
   "source": [
    "y_pred_scaled = model.predict(X_test)\n",
    "y_pred = scaler_y.inverse_transform(y_pred_scaled)"
   ]
  },
  {
   "cell_type": "code",
   "execution_count": 29,
   "metadata": {},
   "outputs": [],
   "source": [
    "results_df = pd.DataFrame(y_pred, columns=[\"percentage_docks_available\"])\n",
    "results_df.reset_index().to_csv('submission_new_lstm_simple_final.csv', index=False)"
   ]
  },
  {
   "cell_type": "code",
   "execution_count": 40,
   "metadata": {},
   "outputs": [],
   "source": [
    "# Features\n",
    "sequence_features = [\n",
    "    'disponibilidad_porcentage_4h_antes',\n",
    "    'disponibilidad_porcentage_3h_antes',\n",
    "    'disponibilidad_porcentage_2h_antes',\n",
    "    'disponibilidad_porcentage_1h_antes'\n",
    "]\n",
    "context_features = ['month', 'day', 'hour', 'capacity', 'is_weekend', \n",
    "                    'is_holiday','altitude', 'post_code','cross_street_mod',\n",
    "                    'Cross_barrio','post_code', 'nearest_station_distance_cap', 'stations_within_300m']\n",
    "target = 'percentage_docks_available'"
   ]
  },
  {
   "cell_type": "code",
   "execution_count": 42,
   "metadata": {},
   "outputs": [],
   "source": [
    "df_new = df_prediction_task[sequence_features + context_features + [target]].copy()"
   ]
  },
  {
   "cell_type": "code",
   "execution_count": 43,
   "metadata": {},
   "outputs": [],
   "source": [
    "df_test_new = test_data[sequence_features + context_features + [target]].copy()"
   ]
  },
  {
   "cell_type": "code",
   "execution_count": 45,
   "metadata": {},
   "outputs": [],
   "source": [
    "from tensorflow.keras.models import Model\n",
    "from tensorflow.keras.layers import Input, LSTM, Dense, Concatenate\n",
    "\n",
    "\n",
    "# Separar X e y\n",
    "X_seq = df_new[sequence_features].values\n",
    "X_ctx = df_new[context_features].values\n",
    "y = df_new[[target]].values\n",
    "\n",
    "\n",
    "\n",
    "X_seq_train = df_new[sequence_features].values\n",
    "X_ctx_train = df_new[context_features].values\n",
    "\n",
    "X_seq_test = df_test_new[sequence_features].values\n",
    "X_ctx_test = df_test_new[context_features].values\n",
    "\n",
    "y_train = df_new[[target]].values\n",
    "\n",
    "\n",
    "\n",
    "# Split train/test\n",
    "#split = int(len(df) * 0.8)\n",
    "#X_seq_train, X_seq_test = X_seq[:split], X_seq[split:]\n",
    "#X_ctx_train, X_ctx_test = X_ctx[:split], X_ctx[split:]\n",
    "#y_train, y_test = y[:split], y[split:]\n",
    "\n",
    "# Escalar\n",
    "scaler_seq = MinMaxScaler()\n",
    "scaler_ctx = MinMaxScaler()\n",
    "scaler_y = MinMaxScaler()\n",
    "\n",
    "X_seq_train_scaled = scaler_seq.fit_transform(X_seq_train).reshape((-1, 4, 1))\n",
    "X_seq_test_scaled = scaler_seq.transform(X_seq_test).reshape((-1, 4, 1))\n",
    "\n",
    "X_ctx_train_scaled = scaler_ctx.fit_transform(X_ctx_train)\n",
    "X_ctx_test_scaled = scaler_ctx.transform(X_ctx_test)\n",
    "\n",
    "y_train_scaled = scaler_y.fit_transform(y_train)\n",
    "#y_test_scaled = scaler_y.transform(y_test)"
   ]
  },
  {
   "cell_type": "code",
   "execution_count": 46,
   "metadata": {},
   "outputs": [],
   "source": [
    "\n",
    "# Modelo\n",
    "input_seq = Input(shape=(4, 1), name=\"secuencia\")\n",
    "lstm_out = LSTM(50, activation='relu')(input_seq)\n",
    "\n",
    "input_ctx = Input(shape=(X_ctx_train_scaled.shape[1],), name=\"contexto\")\n",
    "\n",
    "merged = Concatenate()([lstm_out, input_ctx])\n",
    "output = Dense(1)(merged)\n",
    "\n",
    "model = Model(inputs=[input_seq, input_ctx], outputs=output)\n",
    "model.compile(optimizer='adam', loss='mse')"
   ]
  },
  {
   "cell_type": "code",
   "execution_count": 47,
   "metadata": {},
   "outputs": [
    {
     "name": "stdout",
     "output_type": "stream",
     "text": [
      "Epoch 1/10\n",
      "116770/116770 [==============================] - 90s 766us/step - loss: 0.0041 - val_loss: 0.0024\n",
      "Epoch 2/10\n",
      "116770/116770 [==============================] - 92s 785us/step - loss: 0.0039 - val_loss: 0.0025\n",
      "Epoch 3/10\n",
      "116770/116770 [==============================] - 89s 764us/step - loss: 0.0038 - val_loss: 0.0024\n",
      "Epoch 4/10\n",
      "116770/116770 [==============================] - 93s 793us/step - loss: 0.0038 - val_loss: 0.0025\n",
      "Epoch 5/10\n",
      "116770/116770 [==============================] - 90s 774us/step - loss: 0.0038 - val_loss: 0.0025\n",
      "Epoch 6/10\n",
      "116770/116770 [==============================] - 90s 768us/step - loss: 0.0038 - val_loss: 0.0025\n",
      "Epoch 7/10\n",
      "116770/116770 [==============================] - 89s 761us/step - loss: 0.0038 - val_loss: 0.0024\n",
      "Epoch 8/10\n",
      "116770/116770 [==============================] - 89s 764us/step - loss: 0.0038 - val_loss: 0.0024\n",
      "Epoch 9/10\n",
      "116770/116770 [==============================] - 80s 688us/step - loss: 0.0038 - val_loss: 0.0024\n",
      "Epoch 10/10\n",
      "116770/116770 [==============================] - 82s 700us/step - loss: 0.0038 - val_loss: 0.0024\n"
     ]
    },
    {
     "data": {
      "text/plain": [
       "<keras.src.callbacks.History at 0x5b2c79510>"
      ]
     },
     "execution_count": 47,
     "metadata": {},
     "output_type": "execute_result"
    }
   ],
   "source": [
    "# Entrenamiento\n",
    "model.fit(\n",
    "    {'secuencia': X_seq_train_scaled, 'contexto': X_ctx_train_scaled},\n",
    "    y_train_scaled,\n",
    "    epochs=10,\n",
    "    batch_size=16,\n",
    "    validation_split=0.1,\n",
    "    verbose=1\n",
    ")"
   ]
  },
  {
   "cell_type": "code",
   "execution_count": 48,
   "metadata": {},
   "outputs": [
    {
     "name": "stdout",
     "output_type": "stream",
     "text": [
      "12548/12548 [==============================] - 4s 325us/step\n"
     ]
    }
   ],
   "source": [
    "# Predicción y evaluación\n",
    "y_pred_scaled = model.predict({'secuencia': X_seq_test_scaled, 'contexto': X_ctx_test_scaled})\n",
    "y_pred = scaler_y.inverse_transform(y_pred_scaled)\n",
    "y_test_actual = scaler_y.inverse_transform(y_test_scaled)"
   ]
  },
  {
   "cell_type": "code",
   "execution_count": 49,
   "metadata": {},
   "outputs": [],
   "source": [
    "results_df = pd.DataFrame(y_pred, columns=[\"percentage_docks_available\"])\n",
    "results_df.reset_index().to_csv('submission_lstm_crazy_final.csv', index=False)"
   ]
  }
 ],
 "metadata": {
  "kaggle": {
   "accelerator": "none",
   "dataSources": [
    {
     "databundleVersionId": 11131302,
     "sourceId": 93461,
     "sourceType": "competition"
    },
    {
     "datasetId": 7006827,
     "sourceId": 11219832,
     "sourceType": "datasetVersion"
    }
   ],
   "dockerImageVersionId": 30918,
   "isGpuEnabled": false,
   "isInternetEnabled": true,
   "language": "python",
   "sourceType": "notebook"
  },
  "kernelspec": {
   "display_name": "Python 3 (ipykernel)",
   "language": "python",
   "name": "python3"
  },
  "language_info": {
   "codemirror_mode": {
    "name": "ipython",
    "version": 3
   },
   "file_extension": ".py",
   "mimetype": "text/x-python",
   "name": "python",
   "nbconvert_exporter": "python",
   "pygments_lexer": "ipython3",
   "version": "3.11.3"
  }
 },
 "nbformat": 4,
 "nbformat_minor": 4
}
